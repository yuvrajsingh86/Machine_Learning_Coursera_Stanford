{
 "cells": [
  {
   "cell_type": "code",
   "execution_count": 33,
   "metadata": {
    "collapsed": false
   },
   "outputs": [
    {
     "name": "stdout",
     "output_type": "stream",
     "text": [
      "[4, 2, 6, 8] 0 3 3 4\n",
      "[2, 4, 6, 8] 0 1 2 2\n",
      "4\n"
     ]
    }
   ],
   "source": [
    "def QuickSort(num,l,r):\n",
    "    if r<=l:\n",
    "        return 0\n",
    "    size = r-l+1\n",
    "    \n",
    "    i=l+1\n",
    "    j=l+1\n",
    "    pivot=num[l]\n",
    "    for x in range(size-1):\n",
    "        if num[j]<=pivot:\n",
    "            temp = num[j]\n",
    "            num[j]=num[i]\n",
    "            num[i]=temp\n",
    "            i=i+1\n",
    "        j=j+1\n",
    "\n",
    "\n",
    "    num[l] = num[i-1]\n",
    "    num[i-1]=pivot\n",
    "\n",
    "    print num,l,r,i,j\n",
    "    a = QuickSort(num,l,i-2)\n",
    "    b =QuickSort(num,i,r)\n",
    "    return a+b+size-1\n",
    "\n",
    "print QuickSort([6,8,2,4],0,3)\n",
    "        "
   ]
  },
  {
   "cell_type": "code",
   "execution_count": 36,
   "metadata": {
    "collapsed": false
   },
   "outputs": [
    {
     "name": "stdout",
     "output_type": "stream",
     "text": [
      "0 0\n",
      "1 1\n",
      "2 2\n"
     ]
    }
   ],
   "source": [
    "for i,j in zip(xrange(3),xrange(3)):\n",
    "    print i,j"
   ]
  },
  {
   "cell_type": "code",
   "execution_count": 37,
   "metadata": {
    "collapsed": false
   },
   "outputs": [
    {
     "data": {
      "text/plain": [
       "1.0"
      ]
     },
     "execution_count": 37,
     "metadata": {},
     "output_type": "execute_result"
    }
   ],
   "source": [
    "1*1.00000000\n"
   ]
  },
  {
   "cell_type": "code",
   "execution_count": 39,
   "metadata": {
    "collapsed": false
   },
   "outputs": [
    {
     "data": {
      "text/plain": [
       "0.14285714285714285"
      ]
     },
     "execution_count": 39,
     "metadata": {},
     "output_type": "execute_result"
    }
   ],
   "source": [
    "1.00000000000*1/7\n"
   ]
  },
  {
   "cell_type": "code",
   "execution_count": 43,
   "metadata": {
    "collapsed": false
   },
   "outputs": [
    {
     "ename": "ZeroDivisionError",
     "evalue": "integer division or modulo by zero",
     "output_type": "error",
     "traceback": [
      "\u001b[0;31m---------------------------------------------------------------------------\u001b[0m",
      "\u001b[0;31mZeroDivisionError\u001b[0m                         Traceback (most recent call last)",
      "\u001b[0;32m<ipython-input-43-307e331ef0a4>\u001b[0m in \u001b[0;36m<module>\u001b[0;34m()\u001b[0m\n\u001b[0;32m----> 1\u001b[0;31m \u001b[0;32mprint\u001b[0m \u001b[0;36m4\u001b[0m\u001b[0;34m%\u001b[0m\u001b[0;36m0\u001b[0m\u001b[0;34m\u001b[0m\u001b[0m\n\u001b[0m",
      "\u001b[0;31mZeroDivisionError\u001b[0m: integer division or modulo by zero"
     ]
    }
   ],
   "source": [
    "print 4%0"
   ]
  },
  {
   "cell_type": "code",
   "execution_count": 49,
   "metadata": {
    "collapsed": false
   },
   "outputs": [],
   "source": [
    "from collections import Counter\n",
    "z = ['blue', 'red', 'blue', 'yellow', 'blue', 'red']\n",
    "x=Counter(z)\n",
    "\n"
   ]
  },
  {
   "cell_type": "code",
   "execution_count": 53,
   "metadata": {
    "collapsed": false
   },
   "outputs": [
    {
     "name": "stdout",
     "output_type": "stream",
     "text": [
      "blue 3\n",
      "yellow 1\n",
      "red 2\n"
     ]
    }
   ],
   "source": [
    "for i,v in x.iteritems():\n",
    "    print i,v"
   ]
  },
  {
   "cell_type": "code",
   "execution_count": 54,
   "metadata": {
    "collapsed": false
   },
   "outputs": [
    {
     "name": "stdout",
     "output_type": "stream",
     "text": [
      "2\n"
     ]
    }
   ],
   "source": [
    "i=1\n",
    "while True:\n",
    "    if i==2:\n",
    "        break\n",
    "    i=i+1\n",
    "    print i"
   ]
  },
  {
   "cell_type": "code",
   "execution_count": 59,
   "metadata": {
    "collapsed": false
   },
   "outputs": [
    {
     "name": "stdout",
     "output_type": "stream",
     "text": [
      "j\n",
      "a\n",
      "r\n",
      "v\n",
      "u\n"
     ]
    }
   ],
   "source": [
    "s='yuvraj'\n",
    "for c in s[:0:-1]:\n",
    "    print c"
   ]
  },
  {
   "cell_type": "code",
   "execution_count": 61,
   "metadata": {
    "collapsed": false
   },
   "outputs": [
    {
     "data": {
      "text/plain": [
       "'ajruvy'"
      ]
     },
     "execution_count": 61,
     "metadata": {},
     "output_type": "execute_result"
    }
   ],
   "source": [
    "\"\".join(sorted(s))"
   ]
  },
  {
   "cell_type": "code",
   "execution_count": 64,
   "metadata": {
    "collapsed": false
   },
   "outputs": [
    {
     "ename": "SyntaxError",
     "evalue": "invalid syntax (<ipython-input-64-39be6ba3efb6>, line 1)",
     "output_type": "error",
     "traceback": [
      "\u001b[0;36m  File \u001b[0;32m\"<ipython-input-64-39be6ba3efb6>\"\u001b[0;36m, line \u001b[0;32m1\u001b[0m\n\u001b[0;31m    a=2>3?1:0\u001b[0m\n\u001b[0m         ^\u001b[0m\n\u001b[0;31mSyntaxError\u001b[0m\u001b[0;31m:\u001b[0m invalid syntax\n"
     ]
    }
   ],
   "source": [
    "a=2>3?1:0"
   ]
  },
  {
   "cell_type": "code",
   "execution_count": 65,
   "metadata": {
    "collapsed": false
   },
   "outputs": [
    {
     "data": {
      "text/plain": [
       "['y', 'u', 'r', 'v', 'a', 'j']"
      ]
     },
     "execution_count": 65,
     "metadata": {},
     "output_type": "execute_result"
    }
   ],
   "source": [
    "list('yurvaj')"
   ]
  },
  {
   "cell_type": "code",
   "execution_count": 76,
   "metadata": {
    "collapsed": false
   },
   "outputs": [],
   "source": [
    "# Enter your code here. Read input from STDIN. Print output to STDOUT\n",
    "import string\n",
    "def nLexo(s):\n",
    "    index = string.lowercase.index(s[0])\n",
    "    l = len(s)\n",
    "    for i in xrange(l-1,1,-1):\n",
    "        if s[i]>s[i-1]:\n",
    "            s[i-1],s[i]=s[i],s[i-1]\n",
    "            return ''.join(s)\n",
    "    min=0\n",
    "    idx=0\n",
    "    ch=''\n",
    "    for j in xrange(1,l):\n",
    "        diff=string.lowercase.index(s[j])-index\n",
    "        if diff>0:\n",
    "            if min==0 or diff<min:\n",
    "                min=diff\n",
    "                ch=s[j]\n",
    "                idx=j\n",
    "    if min==0:\n",
    "        return 'no answer'\n",
    "    else:\n",
    "        del s[idx]        \n",
    "        return ch+''.join(sorted(s))"
   ]
  },
  {
   "cell_type": "code",
   "execution_count": 78,
   "metadata": {
    "collapsed": false
   },
   "outputs": [
    {
     "name": "stdout",
     "output_type": "stream",
     "text": [
      "3\n"
     ]
    },
    {
     "data": {
      "text/plain": [
       "'dhck'"
      ]
     },
     "execution_count": 78,
     "metadata": {},
     "output_type": "execute_result"
    }
   ],
   "source": [
    "nLexo(['d','h','k','c'])"
   ]
  },
  {
   "cell_type": "code",
   "execution_count": null,
   "metadata": {
    "collapsed": true
   },
   "outputs": [],
   "source": []
  }
 ],
 "metadata": {
  "kernelspec": {
   "display_name": "Python 2",
   "language": "python",
   "name": "python2"
  },
  "language_info": {
   "codemirror_mode": {
    "name": "ipython",
    "version": 2
   },
   "file_extension": ".py",
   "mimetype": "text/x-python",
   "name": "python",
   "nbconvert_exporter": "python",
   "pygments_lexer": "ipython2",
   "version": "2.7.11"
  }
 },
 "nbformat": 4,
 "nbformat_minor": 0
}
